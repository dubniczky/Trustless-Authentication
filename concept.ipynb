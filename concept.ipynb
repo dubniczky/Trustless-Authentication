{
 "cells": [
  {
   "cell_type": "code",
   "execution_count": 5,
   "metadata": {},
   "outputs": [],
   "source": [
    "from Cryptodome.Random import get_random_bytes\n",
    "from Cryptodome.Hash import SHA256\n",
    "from Cryptodome.PublicKey import RSA\n",
    "from Cryptodome.Cipher import PKCS1_OAEP\n",
    "\n",
    "import base64"
   ]
  },
  {
   "cell_type": "code",
   "execution_count": 6,
   "metadata": {},
   "outputs": [],
   "source": [
    "def b64s(bytes):\n",
    "    return base64.b64encode(bytes).decode(\"utf-8\")"
   ]
  },
  {
   "cell_type": "code",
   "execution_count": 3,
   "metadata": {},
   "outputs": [],
   "source": [
    "def gen_salt(size=18):\n",
    "    return get_random_bytes(size)"
   ]
  },
  {
   "cell_type": "code",
   "execution_count": 7,
   "metadata": {},
   "outputs": [
    {
     "data": {
      "text/plain": [
       "'FIuVblUglg+BAJGMKr61EwbA'"
      ]
     },
     "execution_count": 7,
     "metadata": {},
     "output_type": "execute_result"
    }
   ],
   "source": [
    "b64s(gen_salt(18))"
   ]
  },
  {
   "cell_type": "code",
   "execution_count": 11,
   "metadata": {},
   "outputs": [],
   "source": [
    "# Client generates password hash and returns it to the server\n",
    "\n",
    "def client_generate(pubsalt, pubkey, password):\n",
    "    # salt\n",
    "    salted = bytes(password, 'utf-8') + pubsalt\n",
    "    # hash\n",
    "    hash = SHA256.new()\n",
    "    hash.update(salted)\n",
    "    digest = hash.digest()\n",
    "    # encrypt\n",
    "    encryptor = PKCS1_OAEP.new(pubkey)\n",
    "    encrypted = encryptor.encrypt(digest)\n",
    "    # send\n",
    "    return encrypted"
   ]
  },
  {
   "cell_type": "code",
   "execution_count": 13,
   "metadata": {},
   "outputs": [],
   "source": [
    "# Server registration simulation\n",
    "\n",
    "def server_register(password):\n",
    "    # generate context\n",
    "    pubsalt = gen_salt(18)\n",
    "    privsalt = gen_salt(18)    \n",
    "    rsa = RSA.generate(1024)    \n",
    "    # wait for client\n",
    "    user_hash = client_generate(pubsalt, rsa.public_key(), password)\n",
    "    # decrypt\n",
    "    decryptor = PKCS1_OAEP.new(rsa)\n",
    "    decrypted = decryptor.decrypt(user_hash)\n",
    "    # hash\n",
    "    hash = SHA256.new()\n",
    "    hash.update(decrypted + privsalt)\n",
    "    final = base64.b64encode(hash.digest())\n",
    "    # store\n",
    "    return (pubsalt, privsalt, final)"
   ]
  },
  {
   "cell_type": "code",
   "execution_count": 17,
   "metadata": {},
   "outputs": [
    {
     "data": {
      "text/plain": [
       "('NGMO3fskSCxl6+S4b2LLVq+r',\n",
       " 'Qbyy3Q2Lui4Ns+jKxfLUL4BN',\n",
       " 'V2kwbW9SK1RURVNxMUNHVWMxRUg0bXdjd0tBOHRsaVlweklhMnp0eXF6Zz0=')"
      ]
     },
     "execution_count": 17,
     "metadata": {},
     "output_type": "execute_result"
    }
   ],
   "source": [
    "user = server_register('password2')\n",
    "( b64s(user[0]), b64s(user[1]), b64s(user[2]) )"
   ]
  },
  {
   "cell_type": "code",
   "execution_count": 20,
   "metadata": {},
   "outputs": [],
   "source": [
    "# Server login simulation\n",
    "\n",
    "def server_login(user, password):\n",
    "    # generate context\n",
    "    pubsalt = user[0]\n",
    "    privsalt = user[1]\n",
    "    rsa = RSA.generate(2048)    \n",
    "    # wait for client\n",
    "    user_hash = client_generate(pubsalt, rsa.public_key(), password)\n",
    "    # decrypt    \n",
    "    decryptor = PKCS1_OAEP.new(rsa)\n",
    "    decrypted = decryptor.decrypt(user_hash)\n",
    "    # hash\n",
    "    hash = SHA256.new()\n",
    "    hash.update(decrypted + privsalt)\n",
    "    final = base64.b64encode(hash.digest())\n",
    "    # verify\n",
    "    return user[2] == final"
   ]
  },
  {
   "cell_type": "code",
   "execution_count": 21,
   "metadata": {},
   "outputs": [
    {
     "data": {
      "text/plain": [
       "True"
      ]
     },
     "execution_count": 21,
     "metadata": {},
     "output_type": "execute_result"
    }
   ],
   "source": [
    "server_login(user, 'password2')"
   ]
  }
 ],
 "metadata": {
  "interpreter": {
   "hash": "b5f5095bc8a020909fe57efb07b0a294af283906169965f1abac01c01e301a7c"
  },
  "kernelspec": {
   "display_name": "Python 3.10.1 64-bit",
   "language": "python",
   "name": "python3"
  },
  "language_info": {
   "codemirror_mode": {
    "name": "ipython",
    "version": 3
   },
   "file_extension": ".py",
   "mimetype": "text/x-python",
   "name": "python",
   "nbconvert_exporter": "python",
   "pygments_lexer": "ipython3",
   "version": "3.10.2"
  },
  "orig_nbformat": 4
 },
 "nbformat": 4,
 "nbformat_minor": 2
}
